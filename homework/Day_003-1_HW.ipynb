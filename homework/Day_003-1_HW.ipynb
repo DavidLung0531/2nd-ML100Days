{
 "cells": [
  {
   "cell_type": "code",
   "execution_count": null,
   "metadata": {},
   "outputs": [],
   "source": [
    "import numpy as np\n",
    "import pandas as pd\n",
    "from pandas import Series, DataFrame\n",
    "\n",
    "'''\n",
    "Ex: 想像一個 dataframe 有兩個欄位，一個是國家，一個是人口，求人口數最多的國家\n",
    "'''\n",
    "data = {'國家' : ['TW', 'US', 'JP', 'Aus', 'Eng', 'French'],\n",
    "        '人口' : np.random.randn(6)}\n",
    "df = DataFrame(data)\n",
    "print(df, '\\n')\n",
    "\n",
    "'''\n",
    "國家 = np.random.randint(20, size = 12)\n",
    "人口 = np.random.uniform(5.0, size = 12)\n",
    "print(國家, 人口, '\\n')\n",
    "list_labels = ['國家', '人口']\n",
    "list_cols = [國家, 人口]\n",
    "zipped = list(zip(list_labels, list_cols))\n",
    "print(zipped)\n",
    "df2 = DataFrame(dict(zipped))\n",
    "print(df2) #DataFrame(集合)\n",
    "'''\n",
    "\n",
    "st = df.sort_values('人口')\n",
    "Max = st.tail(1) \n",
    "print('人口數最多的國家 %s'  % Max)\n",
    "\n",
    "#求人口數最多的國家"
   ]
  }
 ],
 "metadata": {
  "kernelspec": {
   "display_name": "Python 3",
   "language": "python",
   "name": "python3"
  },
  "language_info": {
   "codemirror_mode": {
    "name": "ipython",
    "version": 3
   },
   "file_extension": ".py",
   "mimetype": "text/x-python",
   "name": "python",
   "nbconvert_exporter": "python",
   "pygments_lexer": "ipython3",
   "version": "3.7.3"
  }
 },
 "nbformat": 4,
 "nbformat_minor": 2
}
