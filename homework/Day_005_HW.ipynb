{
 "cells": [
  {
   "cell_type": "code",
   "execution_count": null,
   "metadata": {},
   "outputs": [],
   "source": [
    "# -*- coding: utf-8 -*-\n",
    "\"\"\"\n",
    "Created on Tue May 21 21:22:57 2019\n",
    "\n",
    "@author: 煥其\n",
    "\"\"\"\n",
    "\n",
    "# Import 需要的套件\n",
    "import os\n",
    "import numpy as np\n",
    "import pandas as pd\n",
    "import matplotlib.pyplot as plt\n",
    "\n",
    "# 設定 data_path\n",
    "dir_data = '../Data/'\n",
    "\n",
    "f_app_train = os.path.join(dir_data, 'application_train.csv')\n",
    "app_train = pd.read_csv(f_app_train)\n",
    "\n",
    "#check dtypes\n",
    "#add = app_train['FLAG_DOCUMENT_2'].dtypes\n",
    "#print(add)\n",
    "\n",
    "\n",
    "\n",
    "def ramdon_col (number_col):\n",
    "    app_train_loc = pd.DataFrame(app_train.iloc[ : , number_col ])\n",
    "    for col in app_train_loc:\n",
    "        print(col)\n",
    "        if app_train_loc[col].dtypes == 'int64':\n",
    "            add = app_train_loc[col].sum()\n",
    "            print(add)\n",
    "        elif app_train_loc[col].dtypes == 'float64':\n",
    "            std = app_train_loc[col].std()\n",
    "            print(std)\n",
    "        elif app_train_loc[col].dtypes == 'object':\n",
    "            print('it\\'s an object.')\n",
    "    return app_train_loc\n",
    "\n",
    "result = ramdon_col(5)\n",
    "\n",
    "try: \n",
    "    hist = result.hist(bins = 30)\n",
    "except:\n",
    "    print('fail')\n"
   ]
  }
 ],
 "metadata": {
  "kernelspec": {
   "display_name": "Python 3",
   "language": "python",
   "name": "python3"
  },
  "language_info": {
   "codemirror_mode": {
    "name": "ipython",
    "version": 3
   },
   "file_extension": ".py",
   "mimetype": "text/x-python",
   "name": "python",
   "nbconvert_exporter": "python",
   "pygments_lexer": "ipython3",
   "version": "3.7.3"
  }
 },
 "nbformat": 4,
 "nbformat_minor": 2
}
